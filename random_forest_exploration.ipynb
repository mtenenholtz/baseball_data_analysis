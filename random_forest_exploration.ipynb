{
 "cells": [
  {
   "cell_type": "code",
   "execution_count": 1,
   "metadata": {},
   "outputs": [],
   "source": [
    "from pybaseball import *\n",
    "\n",
    "from sklearn.model_selection import train_test_split\n",
    "from sklearn.model_selection import GridSearchCV\n",
    "\n",
    "from sklearn.preprocessing import StandardScaler\n",
    "from sklearn.preprocessing import OneHotEncoder\n",
    "\n",
    "import pandas as pd\n",
    "import numpy as np\n",
    "import os\n",
    "import lightgbm as lgb\n",
    "\n",
    "%matplotlib inline"
   ]
  },
  {
   "cell_type": "markdown",
   "metadata": {},
   "source": [
    "## Loading the Data"
   ]
  },
  {
   "cell_type": "code",
   "execution_count": 2,
   "metadata": {},
   "outputs": [
    {
     "name": "stderr",
     "output_type": "stream",
     "text": [
      "C:\\Users\\Mark\\Anaconda3\\lib\\site-packages\\IPython\\core\\interactiveshell.py:3049: DtypeWarning: Columns (44) have mixed types. Specify dtype option on import or set low_memory=False.\n",
      "  interactivity=interactivity, compiler=compiler, result=result)\n"
     ]
    }
   ],
   "source": [
    "raw_data = pd.read_csv('data/data.csv')\n",
    "speed_data = pd.read_csv('data/sprint_speed.csv')"
   ]
  },
  {
   "cell_type": "markdown",
   "metadata": {},
   "source": [
    "## Preprocessing"
   ]
  },
  {
   "cell_type": "code",
   "execution_count": 3,
   "metadata": {},
   "outputs": [
    {
     "data": {
      "text/html": [
       "<div>\n",
       "<style scoped>\n",
       "    .dataframe tbody tr th:only-of-type {\n",
       "        vertical-align: middle;\n",
       "    }\n",
       "\n",
       "    .dataframe tbody tr th {\n",
       "        vertical-align: top;\n",
       "    }\n",
       "\n",
       "    .dataframe thead th {\n",
       "        text-align: right;\n",
       "    }\n",
       "</style>\n",
       "<table border=\"1\" class=\"dataframe\">\n",
       "  <thead>\n",
       "    <tr style=\"text-align: right;\">\n",
       "      <th></th>\n",
       "      <th>batter_last_name</th>\n",
       "      <th>batter_first_name</th>\n",
       "      <th>sprint_speed</th>\n",
       "    </tr>\n",
       "  </thead>\n",
       "  <tbody>\n",
       "    <tr>\n",
       "      <th>0</th>\n",
       "      <td>Machado</td>\n",
       "      <td>Manny</td>\n",
       "      <td>26.6</td>\n",
       "    </tr>\n",
       "    <tr>\n",
       "      <th>1</th>\n",
       "      <td>Machado</td>\n",
       "      <td>Manny</td>\n",
       "      <td>26.6</td>\n",
       "    </tr>\n",
       "    <tr>\n",
       "      <th>2</th>\n",
       "      <td>Machado</td>\n",
       "      <td>Manny</td>\n",
       "      <td>26.6</td>\n",
       "    </tr>\n",
       "    <tr>\n",
       "      <th>3</th>\n",
       "      <td>Machado</td>\n",
       "      <td>Manny</td>\n",
       "      <td>26.6</td>\n",
       "    </tr>\n",
       "    <tr>\n",
       "      <th>4</th>\n",
       "      <td>Machado</td>\n",
       "      <td>Manny</td>\n",
       "      <td>26.6</td>\n",
       "    </tr>\n",
       "  </tbody>\n",
       "</table>\n",
       "</div>"
      ],
      "text/plain": [
       "  batter_last_name batter_first_name  sprint_speed\n",
       "0          Machado             Manny          26.6\n",
       "1          Machado             Manny          26.6\n",
       "2          Machado             Manny          26.6\n",
       "3          Machado             Manny          26.6\n",
       "4          Machado             Manny          26.6"
      ]
     },
     "execution_count": 3,
     "metadata": {},
     "output_type": "execute_result"
    }
   ],
   "source": [
    "speed_data.rename({\n",
    "    'last_name': 'batter_last_name',\n",
    "    ' first_name': 'batter_first_name'\n",
    "}, axis='columns', inplace=True)\n",
    "\n",
    "data = raw_data.merge(speed_data[['batter_last_name', 'batter_first_name', 'player_id', 'sprint_speed']], left_on='batter', right_on='player_id')\n",
    "data[['batter_last_name', 'batter_first_name', 'sprint_speed']].head()"
   ]
  },
  {
   "cell_type": "code",
   "execution_count": 4,
   "metadata": {},
   "outputs": [],
   "source": [
    "# Create outcome feature as target variable. Include sac flies as outs.\n",
    "\n",
    "is_hit = ['single', 'double', 'triple', 'home_run']\n",
    "is_out = ['field_out', 'grounded_into_double_play', 'force_out', 'sac_fly', 'fielders_choice_out', 'fielders_choice', 'field_error', 'triple_play']\n",
    "\n",
    "data = data[data.events.isin(is_hit) | data.events.isin(is_out)]\n",
    "data['outcome'] = np.where(data.events.isin(is_hit), data.events, 'out')"
   ]
  },
  {
   "cell_type": "code",
   "execution_count": 5,
   "metadata": {},
   "outputs": [
    {
     "name": "stdout",
     "output_type": "stream",
     "text": [
      "(271595, 7)\n",
      "(271166, 7)\n"
     ]
    },
    {
     "data": {
      "text/html": [
       "<div>\n",
       "<style scoped>\n",
       "    .dataframe tbody tr th:only-of-type {\n",
       "        vertical-align: middle;\n",
       "    }\n",
       "\n",
       "    .dataframe tbody tr th {\n",
       "        vertical-align: top;\n",
       "    }\n",
       "\n",
       "    .dataframe thead th {\n",
       "        text-align: right;\n",
       "    }\n",
       "</style>\n",
       "<table border=\"1\" class=\"dataframe\">\n",
       "  <thead>\n",
       "    <tr style=\"text-align: right;\">\n",
       "      <th></th>\n",
       "      <th>launch_speed</th>\n",
       "      <th>launch_angle</th>\n",
       "      <th>hc_x</th>\n",
       "      <th>hc_y</th>\n",
       "      <th>sprint_speed</th>\n",
       "      <th>home_team</th>\n",
       "      <th>outcome</th>\n",
       "    </tr>\n",
       "  </thead>\n",
       "  <tbody>\n",
       "    <tr>\n",
       "      <th>4</th>\n",
       "      <td>99.2</td>\n",
       "      <td>9.0</td>\n",
       "      <td>101.62</td>\n",
       "      <td>143.38</td>\n",
       "      <td>26.6</td>\n",
       "      <td>LAD</td>\n",
       "      <td>out</td>\n",
       "    </tr>\n",
       "    <tr>\n",
       "      <th>21</th>\n",
       "      <td>79.9</td>\n",
       "      <td>-9.0</td>\n",
       "      <td>98.79</td>\n",
       "      <td>171.35</td>\n",
       "      <td>26.6</td>\n",
       "      <td>LAD</td>\n",
       "      <td>out</td>\n",
       "    </tr>\n",
       "    <tr>\n",
       "      <th>25</th>\n",
       "      <td>104.8</td>\n",
       "      <td>12.0</td>\n",
       "      <td>159.00</td>\n",
       "      <td>64.82</td>\n",
       "      <td>26.6</td>\n",
       "      <td>LAD</td>\n",
       "      <td>single</td>\n",
       "    </tr>\n",
       "    <tr>\n",
       "      <th>34</th>\n",
       "      <td>85.2</td>\n",
       "      <td>37.0</td>\n",
       "      <td>161.17</td>\n",
       "      <td>84.05</td>\n",
       "      <td>26.6</td>\n",
       "      <td>LAD</td>\n",
       "      <td>out</td>\n",
       "    </tr>\n",
       "    <tr>\n",
       "      <th>40</th>\n",
       "      <td>59.2</td>\n",
       "      <td>68.0</td>\n",
       "      <td>135.29</td>\n",
       "      <td>165.78</td>\n",
       "      <td>26.6</td>\n",
       "      <td>LAD</td>\n",
       "      <td>out</td>\n",
       "    </tr>\n",
       "  </tbody>\n",
       "</table>\n",
       "</div>"
      ],
      "text/plain": [
       "    launch_speed  launch_angle    hc_x    hc_y  sprint_speed home_team outcome\n",
       "4           99.2           9.0  101.62  143.38          26.6       LAD     out\n",
       "21          79.9          -9.0   98.79  171.35          26.6       LAD     out\n",
       "25         104.8          12.0  159.00   64.82          26.6       LAD  single\n",
       "34          85.2          37.0  161.17   84.05          26.6       LAD     out\n",
       "40          59.2          68.0  135.29  165.78          26.6       LAD     out"
      ]
     },
     "execution_count": 5,
     "metadata": {},
     "output_type": "execute_result"
    }
   ],
   "source": [
    "# Grab only the records and features we're interested in, drop nans\n",
    "\n",
    "features_of_interest = ['launch_speed', 'launch_angle', 'hc_x', 'hc_y', 'sprint_speed', 'home_team', 'outcome']\n",
    "numerical_features = ['launch_speed', 'launch_angle', 'hc_x', 'hc_y', 'sprint_speed']\n",
    "categorical_features = ['home_team', 'outcome']\n",
    "bb_events = ['ground_ball', 'fly_ball', 'popup', 'line_drive']\n",
    "data = data[data.bb_type.isin(bb_events)][features_of_interest]\n",
    "print(data.shape)\n",
    "data.dropna(inplace=True)\n",
    "print(data.shape)\n",
    "data.head()"
   ]
  },
  {
   "cell_type": "code",
   "execution_count": 41,
   "metadata": {},
   "outputs": [
    {
     "ename": "ValueError",
     "evalue": "Replacement not allowed with overlapping keys and values",
     "output_type": "error",
     "traceback": [
      "\u001b[1;31m---------------------------------------------------------------------------\u001b[0m",
      "\u001b[1;31mValueError\u001b[0m                                Traceback (most recent call last)",
      "\u001b[1;32m<ipython-input-41-f61347f0048d>\u001b[0m in \u001b[0;36m<module>\u001b[1;34m\u001b[0m\n\u001b[0;32m      3\u001b[0m \u001b[0mfeature\u001b[0m \u001b[1;33m=\u001b[0m \u001b[0mdata\u001b[0m\u001b[1;33m[\u001b[0m\u001b[1;34m'home_team'\u001b[0m\u001b[1;33m]\u001b[0m\u001b[1;33m.\u001b[0m\u001b[0munique\u001b[0m\u001b[1;33m(\u001b[0m\u001b[1;33m)\u001b[0m\u001b[1;33m.\u001b[0m\u001b[0mtolist\u001b[0m\u001b[1;33m(\u001b[0m\u001b[1;33m)\u001b[0m\u001b[1;33m\u001b[0m\u001b[1;33m\u001b[0m\u001b[0m\n\u001b[0;32m      4\u001b[0m \u001b[0mmapping\u001b[0m \u001b[1;33m=\u001b[0m \u001b[0mdict\u001b[0m\u001b[1;33m(\u001b[0m\u001b[0mzip\u001b[0m\u001b[1;33m(\u001b[0m\u001b[0mfeature\u001b[0m\u001b[1;33m,\u001b[0m \u001b[0mrange\u001b[0m\u001b[1;33m(\u001b[0m\u001b[0mlen\u001b[0m\u001b[1;33m(\u001b[0m\u001b[0mfeature\u001b[0m\u001b[1;33m)\u001b[0m\u001b[1;33m)\u001b[0m\u001b[1;33m)\u001b[0m\u001b[1;33m)\u001b[0m\u001b[1;33m\u001b[0m\u001b[1;33m\u001b[0m\u001b[0m\n\u001b[1;32m----> 5\u001b[1;33m \u001b[0mdata\u001b[0m\u001b[1;33m.\u001b[0m\u001b[0mreplace\u001b[0m\u001b[1;33m(\u001b[0m\u001b[1;33m{\u001b[0m\u001b[1;34m'home_team'\u001b[0m\u001b[1;33m:\u001b[0m \u001b[0mmapping\u001b[0m\u001b[1;33m}\u001b[0m\u001b[1;33m,\u001b[0m\u001b[0minplace\u001b[0m\u001b[1;33m=\u001b[0m\u001b[1;32mTrue\u001b[0m\u001b[1;33m)\u001b[0m\u001b[1;33m\u001b[0m\u001b[1;33m\u001b[0m\u001b[0m\n\u001b[0m\u001b[0;32m      6\u001b[0m \u001b[1;33m\u001b[0m\u001b[0m\n\u001b[0;32m      7\u001b[0m \u001b[0mfeature\u001b[0m \u001b[1;33m=\u001b[0m \u001b[0mdata\u001b[0m\u001b[1;33m[\u001b[0m\u001b[1;34m'outcome'\u001b[0m\u001b[1;33m]\u001b[0m\u001b[1;33m.\u001b[0m\u001b[0munique\u001b[0m\u001b[1;33m(\u001b[0m\u001b[1;33m)\u001b[0m\u001b[1;33m.\u001b[0m\u001b[0mtolist\u001b[0m\u001b[1;33m(\u001b[0m\u001b[1;33m)\u001b[0m\u001b[1;33m\u001b[0m\u001b[1;33m\u001b[0m\u001b[0m\n",
      "\u001b[1;32m~\\Anaconda3\\lib\\site-packages\\pandas\\core\\frame.py\u001b[0m in \u001b[0;36mreplace\u001b[1;34m(self, to_replace, value, inplace, limit, regex, method)\u001b[0m\n\u001b[0;32m   4040\u001b[0m                                               \u001b[0mvalue\u001b[0m\u001b[1;33m=\u001b[0m\u001b[0mvalue\u001b[0m\u001b[1;33m,\u001b[0m \u001b[0minplace\u001b[0m\u001b[1;33m=\u001b[0m\u001b[0minplace\u001b[0m\u001b[1;33m,\u001b[0m\u001b[1;33m\u001b[0m\u001b[1;33m\u001b[0m\u001b[0m\n\u001b[0;32m   4041\u001b[0m                                               \u001b[0mlimit\u001b[0m\u001b[1;33m=\u001b[0m\u001b[0mlimit\u001b[0m\u001b[1;33m,\u001b[0m \u001b[0mregex\u001b[0m\u001b[1;33m=\u001b[0m\u001b[0mregex\u001b[0m\u001b[1;33m,\u001b[0m\u001b[1;33m\u001b[0m\u001b[1;33m\u001b[0m\u001b[0m\n\u001b[1;32m-> 4042\u001b[1;33m                                               method=method)\n\u001b[0m\u001b[0;32m   4043\u001b[0m \u001b[1;33m\u001b[0m\u001b[0m\n\u001b[0;32m   4044\u001b[0m     \u001b[1;33m@\u001b[0m\u001b[0mAppender\u001b[0m\u001b[1;33m(\u001b[0m\u001b[0m_shared_docs\u001b[0m\u001b[1;33m[\u001b[0m\u001b[1;34m'shift'\u001b[0m\u001b[1;33m]\u001b[0m \u001b[1;33m%\u001b[0m \u001b[0m_shared_doc_kwargs\u001b[0m\u001b[1;33m)\u001b[0m\u001b[1;33m\u001b[0m\u001b[1;33m\u001b[0m\u001b[0m\n",
      "\u001b[1;32m~\\Anaconda3\\lib\\site-packages\\pandas\\core\\generic.py\u001b[0m in \u001b[0;36mreplace\u001b[1;34m(self, to_replace, value, inplace, limit, regex, method)\u001b[0m\n\u001b[0;32m   6486\u001b[0m                     \u001b[0mkeys\u001b[0m\u001b[1;33m,\u001b[0m \u001b[0mvalues\u001b[0m \u001b[1;33m=\u001b[0m \u001b[0mlzip\u001b[0m\u001b[1;33m(\u001b[0m\u001b[1;33m*\u001b[0m\u001b[0mv\u001b[0m\u001b[1;33m.\u001b[0m\u001b[0mitems\u001b[0m\u001b[1;33m(\u001b[0m\u001b[1;33m)\u001b[0m\u001b[1;33m)\u001b[0m \u001b[1;32mor\u001b[0m \u001b[1;33m(\u001b[0m\u001b[1;33m[\u001b[0m\u001b[1;33m]\u001b[0m\u001b[1;33m,\u001b[0m \u001b[1;33m[\u001b[0m\u001b[1;33m]\u001b[0m\u001b[1;33m)\u001b[0m\u001b[1;33m\u001b[0m\u001b[1;33m\u001b[0m\u001b[0m\n\u001b[0;32m   6487\u001b[0m                     \u001b[1;32mif\u001b[0m \u001b[0mset\u001b[0m\u001b[1;33m(\u001b[0m\u001b[0mkeys\u001b[0m\u001b[1;33m)\u001b[0m \u001b[1;33m&\u001b[0m \u001b[0mset\u001b[0m\u001b[1;33m(\u001b[0m\u001b[0mvalues\u001b[0m\u001b[1;33m)\u001b[0m\u001b[1;33m:\u001b[0m\u001b[1;33m\u001b[0m\u001b[1;33m\u001b[0m\u001b[0m\n\u001b[1;32m-> 6488\u001b[1;33m                         raise ValueError(\"Replacement not allowed with \"\n\u001b[0m\u001b[0;32m   6489\u001b[0m                                          \"overlapping keys and values\")\n\u001b[0;32m   6490\u001b[0m                     \u001b[0mto_rep_dict\u001b[0m\u001b[1;33m[\u001b[0m\u001b[0mk\u001b[0m\u001b[1;33m]\u001b[0m \u001b[1;33m=\u001b[0m \u001b[0mlist\u001b[0m\u001b[1;33m(\u001b[0m\u001b[0mkeys\u001b[0m\u001b[1;33m)\u001b[0m\u001b[1;33m\u001b[0m\u001b[1;33m\u001b[0m\u001b[0m\n",
      "\u001b[1;31mValueError\u001b[0m: Replacement not allowed with overlapping keys and values"
     ]
    }
   ],
   "source": [
    "# Convert categorical string variables to integers\n",
    "\n",
    "feature = data['home_team'].unique().tolist()\n",
    "mapping = dict(zip(feature, range(len(feature))))\n",
    "data.replace({'home_team': mapping},inplace=True)\n",
    "\n",
    "feature = data['outcome'].unique().tolist()\n",
    "mapping = dict(zip(feature, range(len(feature))))\n",
    "data.replace({'outcome': mapping},inplace=True)"
   ]
  },
  {
   "cell_type": "code",
   "execution_count": 28,
   "metadata": {},
   "outputs": [],
   "source": [
    "seed = 34\n",
    "np.random.seed(seed)\n",
    "\n",
    "# All but the last item in features_of_interest are variables\n",
    "X = data[features_of_interest[:-1]]\n",
    "y = data[features_of_interest[-1]]\n",
    "\n",
    "X_train, X_test, y_train, y_test = train_test_split(X, y, test_size=0.25, random_state=seed)\n",
    "X_train, X_val, y_train, y_val = train_test_split(X_train, y_train, test_size=0.15, random_state=seed)"
   ]
  },
  {
   "cell_type": "code",
   "execution_count": 23,
   "metadata": {},
   "outputs": [
    {
     "data": {
      "text/plain": [
       "'outcome'"
      ]
     },
     "execution_count": 23,
     "metadata": {},
     "output_type": "execute_result"
    }
   ],
   "source": [
    "features_of_interest[-1]"
   ]
  },
  {
   "cell_type": "code",
   "execution_count": 62,
   "metadata": {},
   "outputs": [],
   "source": [
    "train_data = lgb.Dataset(X_train, label=y_train, feature_name=features_of_interest[:-1], categorical_feature=[5], free_raw_data=False)\n",
    "test_data = lgb.Dataset(X_test, label=y_test, feature_name=features_of_interest[:-1], categorical_feature=[5], free_raw_data=False)\n",
    "validation_data = lgb.Dataset(X_val, label=y_val, feature_name=features_of_interest[:-1], categorical_feature=[5], free_raw_data=False)"
   ]
  },
  {
   "cell_type": "code",
   "execution_count": 83,
   "metadata": {},
   "outputs": [],
   "source": [
    "params = {\n",
    "    \"objective\" : \"multiclass\",\n",
    "    \"metric\": 'multi_logloss',\n",
    "    \"num_class\": 5,\n",
    "    \"num_leaves\": 40,\n",
    "    \"max_depth\": 10,\n",
    "    \"learning_rate\": 0.01,\n",
    "    \"bagging_fraction\": 0.9,  # subsample\n",
    "    \"feature_fraction\": 0.9,  # colsample_bytree\n",
    "    \"bagging_freq\": 5,        # subsample_freq\n",
    "    \"bagging_seed\": seed,\n",
    "    \"min_data_in_leaf\": 100,\n",
    "    #\"lambda_l1\": 0.3,\n",
    "    #\"lambda_l2\": 0.3,\n",
    "    \"verbosity\": 1\n",
    "}"
   ]
  },
  {
   "cell_type": "code",
   "execution_count": 86,
   "metadata": {},
   "outputs": [
    {
     "name": "stdout",
     "output_type": "stream",
     "text": [
      "Attempting run 1 with num_leaves = 20 and max_depth = 10\n",
      "Training until validation scores don't improve for 100 rounds.\n",
      "[500]\ttraining's multi_logloss: 0.368081\tvalid_1's multi_logloss: 0.377154\n",
      "[1000]\ttraining's multi_logloss: 0.313239\tvalid_1's multi_logloss: 0.326969\n",
      "[1500]\ttraining's multi_logloss: 0.292876\tvalid_1's multi_logloss: 0.311391\n",
      "[2000]\ttraining's multi_logloss: 0.280927\tvalid_1's multi_logloss: 0.304128\n",
      "Did not meet early stopping. Best iteration is:\n",
      "[2000]\ttraining's multi_logloss: 0.280927\tvalid_1's multi_logloss: 0.304128\n",
      "Attempting run 2 with num_leaves = 20 and max_depth = 30\n",
      "Training until validation scores don't improve for 100 rounds.\n",
      "[500]\ttraining's multi_logloss: 0.368077\tvalid_1's multi_logloss: 0.377137\n",
      "[1000]\ttraining's multi_logloss: 0.313251\tvalid_1's multi_logloss: 0.327032\n",
      "[1500]\ttraining's multi_logloss: 0.292845\tvalid_1's multi_logloss: 0.311388\n",
      "[2000]\ttraining's multi_logloss: 0.280891\tvalid_1's multi_logloss: 0.304098\n",
      "Did not meet early stopping. Best iteration is:\n",
      "[2000]\ttraining's multi_logloss: 0.280891\tvalid_1's multi_logloss: 0.304098\n",
      "Attempting run 3 with num_leaves = 20 and max_depth = -1\n",
      "Training until validation scores don't improve for 100 rounds.\n",
      "[500]\ttraining's multi_logloss: 0.368077\tvalid_1's multi_logloss: 0.377137\n",
      "[1000]\ttraining's multi_logloss: 0.313251\tvalid_1's multi_logloss: 0.327032\n",
      "[1500]\ttraining's multi_logloss: 0.292845\tvalid_1's multi_logloss: 0.311388\n",
      "[2000]\ttraining's multi_logloss: 0.280891\tvalid_1's multi_logloss: 0.304098\n",
      "Did not meet early stopping. Best iteration is:\n",
      "[2000]\ttraining's multi_logloss: 0.280891\tvalid_1's multi_logloss: 0.304098\n",
      "Attempting run 4 with num_leaves = 40 and max_depth = 10\n",
      "Training until validation scores don't improve for 100 rounds.\n",
      "[500]\ttraining's multi_logloss: 0.345468\tvalid_1's multi_logloss: 0.360174\n",
      "[1000]\ttraining's multi_logloss: 0.289808\tvalid_1's multi_logloss: 0.313698\n",
      "[1500]\ttraining's multi_logloss: 0.268236\tvalid_1's multi_logloss: 0.30103\n",
      "[2000]\ttraining's multi_logloss: 0.254462\tvalid_1's multi_logloss: 0.295472\n",
      "Did not meet early stopping. Best iteration is:\n",
      "[2000]\ttraining's multi_logloss: 0.254462\tvalid_1's multi_logloss: 0.295472\n",
      "Attempting run 5 with num_leaves = 40 and max_depth = 30\n",
      "Training until validation scores don't improve for 100 rounds.\n",
      "[500]\ttraining's multi_logloss: 0.345188\tvalid_1's multi_logloss: 0.35989\n",
      "[1000]\ttraining's multi_logloss: 0.28945\tvalid_1's multi_logloss: 0.313507\n",
      "[1500]\ttraining's multi_logloss: 0.267709\tvalid_1's multi_logloss: 0.300801\n",
      "[2000]\ttraining's multi_logloss: 0.253779\tvalid_1's multi_logloss: 0.295324\n",
      "Did not meet early stopping. Best iteration is:\n",
      "[2000]\ttraining's multi_logloss: 0.253779\tvalid_1's multi_logloss: 0.295324\n",
      "Attempting run 6 with num_leaves = 40 and max_depth = -1\n",
      "Training until validation scores don't improve for 100 rounds.\n",
      "[500]\ttraining's multi_logloss: 0.345188\tvalid_1's multi_logloss: 0.35989\n",
      "[1000]\ttraining's multi_logloss: 0.28945\tvalid_1's multi_logloss: 0.313507\n",
      "[1500]\ttraining's multi_logloss: 0.267709\tvalid_1's multi_logloss: 0.300801\n",
      "[2000]\ttraining's multi_logloss: 0.253779\tvalid_1's multi_logloss: 0.295324\n",
      "Did not meet early stopping. Best iteration is:\n",
      "[2000]\ttraining's multi_logloss: 0.253779\tvalid_1's multi_logloss: 0.295324\n",
      "Attempting run 7 with num_leaves = 60 and max_depth = 10\n",
      "Training until validation scores don't improve for 100 rounds.\n",
      "[500]\ttraining's multi_logloss: 0.334674\tvalid_1's multi_logloss: 0.354347\n",
      "[1000]\ttraining's multi_logloss: 0.276881\tvalid_1's multi_logloss: 0.30905\n",
      "[1500]\ttraining's multi_logloss: 0.253179\tvalid_1's multi_logloss: 0.297456\n",
      "[2000]\ttraining's multi_logloss: 0.237485\tvalid_1's multi_logloss: 0.292905\n",
      "Did not meet early stopping. Best iteration is:\n",
      "[2000]\ttraining's multi_logloss: 0.237485\tvalid_1's multi_logloss: 0.292905\n",
      "Attempting run 8 with num_leaves = 60 and max_depth = 30\n",
      "Training until validation scores don't improve for 100 rounds.\n",
      "[500]\ttraining's multi_logloss: 0.333797\tvalid_1's multi_logloss: 0.353761\n",
      "[1000]\ttraining's multi_logloss: 0.275808\tvalid_1's multi_logloss: 0.30871\n",
      "[1500]\ttraining's multi_logloss: 0.251915\tvalid_1's multi_logloss: 0.297299\n",
      "[2000]\ttraining's multi_logloss: 0.235942\tvalid_1's multi_logloss: 0.292842\n",
      "Did not meet early stopping. Best iteration is:\n",
      "[2000]\ttraining's multi_logloss: 0.235942\tvalid_1's multi_logloss: 0.292842\n",
      "Attempting run 9 with num_leaves = 60 and max_depth = -1\n",
      "Training until validation scores don't improve for 100 rounds.\n",
      "[500]\ttraining's multi_logloss: 0.333797\tvalid_1's multi_logloss: 0.353761\n",
      "[1000]\ttraining's multi_logloss: 0.275808\tvalid_1's multi_logloss: 0.30871\n",
      "[1500]\ttraining's multi_logloss: 0.251915\tvalid_1's multi_logloss: 0.297299\n",
      "[2000]\ttraining's multi_logloss: 0.235942\tvalid_1's multi_logloss: 0.292842\n",
      "Did not meet early stopping. Best iteration is:\n",
      "[2000]\ttraining's multi_logloss: 0.235942\tvalid_1's multi_logloss: 0.292842\n",
      "Attempting run 10 with num_leaves = 80 and max_depth = 10\n",
      "Training until validation scores don't improve for 100 rounds.\n",
      "[500]\ttraining's multi_logloss: 0.327396\tvalid_1's multi_logloss: 0.351302\n",
      "[1000]\ttraining's multi_logloss: 0.26766\tvalid_1's multi_logloss: 0.306971\n",
      "[1500]\ttraining's multi_logloss: 0.242049\tvalid_1's multi_logloss: 0.296203\n",
      "[2000]\ttraining's multi_logloss: 0.224652\tvalid_1's multi_logloss: 0.292344\n",
      "Did not meet early stopping. Best iteration is:\n",
      "[2000]\ttraining's multi_logloss: 0.224652\tvalid_1's multi_logloss: 0.292344\n",
      "Attempting run 11 with num_leaves = 80 and max_depth = 30\n",
      "Training until validation scores don't improve for 100 rounds.\n",
      "[500]\ttraining's multi_logloss: 0.325872\tvalid_1's multi_logloss: 0.350417\n",
      "[1000]\ttraining's multi_logloss: 0.265632\tvalid_1's multi_logloss: 0.306353\n",
      "[1500]\ttraining's multi_logloss: 0.239666\tvalid_1's multi_logloss: 0.295885\n",
      "[2000]\ttraining's multi_logloss: 0.221926\tvalid_1's multi_logloss: 0.292189\n",
      "Did not meet early stopping. Best iteration is:\n",
      "[2000]\ttraining's multi_logloss: 0.221926\tvalid_1's multi_logloss: 0.292189\n",
      "Attempting run 12 with num_leaves = 80 and max_depth = -1\n",
      "Training until validation scores don't improve for 100 rounds.\n",
      "[500]\ttraining's multi_logloss: 0.325872\tvalid_1's multi_logloss: 0.350417\n",
      "[1000]\ttraining's multi_logloss: 0.265632\tvalid_1's multi_logloss: 0.306353\n",
      "[1500]\ttraining's multi_logloss: 0.239666\tvalid_1's multi_logloss: 0.295883\n",
      "[2000]\ttraining's multi_logloss: 0.22193\tvalid_1's multi_logloss: 0.292171\n",
      "Did not meet early stopping. Best iteration is:\n",
      "[2000]\ttraining's multi_logloss: 0.22193\tvalid_1's multi_logloss: 0.292171\n"
     ]
    }
   ],
   "source": [
    "# Perform grid search\n",
    "\n",
    "leaves = [20, 40, 60, 80]\n",
    "depth = [10, 30, -1]\n",
    "run_num = 1\n",
    "\n",
    "for num_leaves in leaves:\n",
    "    for max_depth in depth:\n",
    "        print(f'Attempting run {run_num} with num_leaves = {num_leaves} and max_depth = {max_depth}')\n",
    "        params['num_leaves'] = num_leaves\n",
    "        params['max_depth'] = max_depth\n",
    "        run_num += 1\n",
    "        lgb.train(params, train_data, 2000, valid_sets=[train_data, validation_data], early_stopping_rounds=100, verbose_eval=500)"
   ]
  },
  {
   "cell_type": "code",
   "execution_count": null,
   "metadata": {},
   "outputs": [],
   "source": [
    "lgb.cv(\n",
    "    params=params,\n",
    "    train_set=train_data,\n",
    "    num_boost_round=4000,\n",
    "    early_stopping_rounds=100,\n",
    "    nfold=5,\n",
    "    verbose_eval=200,\n",
    "    callbacks=lgb.early_stopping(100, )\n",
    ")"
   ]
  },
  {
   "cell_type": "code",
   "execution_count": 84,
   "metadata": {},
   "outputs": [
    {
     "name": "stdout",
     "output_type": "stream",
     "text": [
      "Training until validation scores don't improve for 100 rounds.\n",
      "[200]\ttraining's multi_logloss: 0.479205\tvalid_1's multi_logloss: 0.488674\n",
      "[400]\ttraining's multi_logloss: 0.370431\tvalid_1's multi_logloss: 0.383298\n",
      "[600]\ttraining's multi_logloss: 0.326756\tvalid_1's multi_logloss: 0.343338\n",
      "[800]\ttraining's multi_logloss: 0.304392\tvalid_1's multi_logloss: 0.324673\n",
      "[1000]\ttraining's multi_logloss: 0.289808\tvalid_1's multi_logloss: 0.313698\n",
      "[1200]\ttraining's multi_logloss: 0.27956\tvalid_1's multi_logloss: 0.307044\n",
      "[1400]\ttraining's multi_logloss: 0.271515\tvalid_1's multi_logloss: 0.302526\n",
      "[1600]\ttraining's multi_logloss: 0.265068\tvalid_1's multi_logloss: 0.29954\n",
      "[1800]\ttraining's multi_logloss: 0.259406\tvalid_1's multi_logloss: 0.297134\n",
      "[2000]\ttraining's multi_logloss: 0.254462\tvalid_1's multi_logloss: 0.295472\n",
      "Did not meet early stopping. Best iteration is:\n",
      "[2000]\ttraining's multi_logloss: 0.254462\tvalid_1's multi_logloss: 0.295472\n"
     ]
    }
   ],
   "source": [
    "lgbmodel = lgb.train(params, train_data, 2000, valid_sets=[train_data, validation_data], early_stopping_rounds=100, verbose_eval=200)"
   ]
  },
  {
   "cell_type": "code",
   "execution_count": 85,
   "metadata": {},
   "outputs": [
    {
     "data": {
      "text/plain": [
       "<matplotlib.axes._subplots.AxesSubplot at 0x2424ce9cd68>"
      ]
     },
     "execution_count": 85,
     "metadata": {},
     "output_type": "execute_result"
    },
    {
     "data": {
      "image/png": "[encoded data removed]",
      "text/plain": [
       "<Figure size 432x288 with 1 Axes>"
      ]
     },
     "metadata": {
      "needs_background": "light"
     },
     "output_type": "display_data"
    }
   ],
   "source": [
    "lgb.plot_importance(lgbmodel)"
   ]
  }
 ],
 "metadata": {
  "kernelspec": {
   "display_name": "Python 3",
   "language": "python",
   "name": "python3"
  },
  "language_info": {
   "codemirror_mode": {
    "name": "ipython",
    "version": 3
   },
   "file_extension": ".py",
   "mimetype": "text/x-python",
   "name": "python",
   "nbconvert_exporter": "python",
   "pygments_lexer": "ipython3",
   "version": "3.6.7"
  }
 },
 "nbformat": 4,
 "nbformat_minor": 2
}
