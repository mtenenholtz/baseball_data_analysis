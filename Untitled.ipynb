{
 "cells": [
  {
   "cell_type": "code",
   "execution_count": 23,
   "metadata": {},
   "outputs": [],
   "source": [
    "from pybaseball import *\n",
    "\n",
    "from sklearn.model_selection import train_test_split\n",
    "from sklearn.preprocessing import StandardScaler\n",
    "from sklearn.utils import resample\n",
    "from sklearn.metrics import accuracy_score\n",
    "from sklearn.metrics import log_loss\n",
    "from tqdm.auto import tqdm\n",
    "\n",
    "import pandas as pd\n",
    "import numpy as np\n",
    "import matplotlib.pyplot as plt \n",
    "import matplotlib.patches as patches\n",
    "import seaborn as sns\n",
    "import xgboost as xgb\n",
    "\n",
    "%matplotlib inline"
   ]
  },
  {
   "cell_type": "code",
   "execution_count": 20,
   "metadata": {},
   "outputs": [
    {
     "name": "stdout",
     "output_type": "stream",
     "text": [
      "This is a large query, it may take a moment to complete\n",
      "Skipping offseason dates\n",
      "Query unsuccessful for data from 2016-03-15 to 2016-03-20. Skipping these dates.\n",
      "Query unsuccessful for data from 2016-03-21 to 2016-03-21. Skipping these dates.\n",
      "Query unsuccessful for data from 2016-03-22 to 2016-03-26. Skipping these dates.\n",
      "Query unsuccessful for data from 2016-03-27 to 2016-03-27. Skipping these dates.\n",
      "Query unsuccessful for data from 2016-03-28 to 2016-04-01. Skipping these dates.\n",
      "Query unsuccessful for data from 2016-04-02 to 2016-04-02. Skipping these dates.\n",
      "Completed sub-query from 2016-04-03 to 2016-04-08\n",
      "Completed sub-query from 2016-04-09 to 2016-04-14\n",
      "Completed sub-query from 2016-04-15 to 2016-04-20\n",
      "Completed sub-query from 2016-04-21 to 2016-04-26\n",
      "Completed sub-query from 2016-04-27 to 2016-05-02\n",
      "Completed sub-query from 2016-05-03 to 2016-05-08\n",
      "Completed sub-query from 2016-05-09 to 2016-05-14\n",
      "Completed sub-query from 2016-05-15 to 2016-05-20\n",
      "Completed sub-query from 2016-05-21 to 2016-05-26\n",
      "Completed sub-query from 2016-05-27 to 2016-06-01\n",
      "Completed sub-query from 2016-06-02 to 2016-06-07\n",
      "Completed sub-query from 2016-06-08 to 2016-06-13\n",
      "Completed sub-query from 2016-06-14 to 2016-06-19\n",
      "Completed sub-query from 2016-06-20 to 2016-06-25\n",
      "Completed sub-query from 2016-06-26 to 2016-07-01\n",
      "Completed sub-query from 2016-07-02 to 2016-07-07\n",
      "Completed sub-query from 2016-07-08 to 2016-07-13\n",
      "Completed sub-query from 2016-07-14 to 2016-07-19\n",
      "Completed sub-query from 2016-07-20 to 2016-07-25\n",
      "Completed sub-query from 2016-07-26 to 2016-07-31\n",
      "Completed sub-query from 2016-08-01 to 2016-08-06\n",
      "Completed sub-query from 2016-08-07 to 2016-08-12\n",
      "Completed sub-query from 2016-08-13 to 2016-08-18\n",
      "Completed sub-query from 2016-08-19 to 2016-08-24\n",
      "Completed sub-query from 2016-08-25 to 2016-08-30\n",
      "Completed sub-query from 2016-08-31 to 2016-09-05\n",
      "Completed sub-query from 2016-09-06 to 2016-09-11\n",
      "Completed sub-query from 2016-09-12 to 2016-09-17\n",
      "Completed sub-query from 2016-09-18 to 2016-09-23\n",
      "Completed sub-query from 2016-09-24 to 2016-09-29\n",
      "Completed sub-query from 2016-09-30 to 2016-10-05\n",
      "Completed sub-query from 2016-10-06 to 2016-10-11\n",
      "Completed sub-query from 2016-10-12 to 2016-10-17\n",
      "Completed sub-query from 2016-10-18 to 2016-10-23\n",
      "Completed sub-query from 2016-10-24 to 2016-10-29\n",
      "Completed sub-query from 2016-10-30 to 2016-11-04\n",
      "Query unsuccessful for data from 2016-11-05 to 2016-11-09. Skipping these dates.\n",
      "Query unsuccessful for data from 2016-11-10 to 2016-11-10. Skipping these dates.\n",
      "Query unsuccessful for data from 2016-11-11 to 2016-11-15. Skipping these dates.\n",
      "Query unsuccessful for data from 2016-11-16 to 2016-11-16. Skipping these dates.\n",
      "Skipping offseason dates\n",
      "Query unsuccessful for data from 2017-03-15 to 2017-03-20. Skipping these dates.\n",
      "Query unsuccessful for data from 2017-03-21 to 2017-03-21. Skipping these dates.\n",
      "Query unsuccessful for data from 2017-03-22 to 2017-03-26. Skipping these dates.\n",
      "Query unsuccessful for data from 2017-03-27 to 2017-03-27. Skipping these dates.\n",
      "Completed sub-query from 2017-03-28 to 2017-04-02\n",
      "Completed sub-query from 2017-04-03 to 2017-04-08\n",
      "Completed sub-query from 2017-04-09 to 2017-04-14\n",
      "Completed sub-query from 2017-04-15 to 2017-04-20\n",
      "Completed sub-query from 2017-04-21 to 2017-04-26\n",
      "Completed sub-query from 2017-04-27 to 2017-05-02\n",
      "Completed sub-query from 2017-05-03 to 2017-05-08\n",
      "Completed sub-query from 2017-05-09 to 2017-05-14\n",
      "Completed sub-query from 2017-05-15 to 2017-05-20\n",
      "Completed sub-query from 2017-05-21 to 2017-05-26\n",
      "Completed sub-query from 2017-05-27 to 2017-06-01\n"
     ]
    },
    {
     "name": "stderr",
     "output_type": "stream",
     "text": [
      "C:\\Users\\Mark\\Anaconda3\\lib\\site-packages\\ipykernel_launcher.py:1: DtypeWarning: Columns (43) have mixed types. Specify dtype option on import or set low_memory=False.\n",
      "  \"\"\"Entry point for launching an IPython kernel.\n"
     ]
    },
    {
     "name": "stdout",
     "output_type": "stream",
     "text": [
      "Completed sub-query from 2017-06-02 to 2017-06-07\n",
      "Completed sub-query from 2017-06-08 to 2017-06-13\n",
      "Completed sub-query from 2017-06-14 to 2017-06-19\n",
      "Completed sub-query from 2017-06-20 to 2017-06-25\n",
      "Completed sub-query from 2017-06-26 to 2017-07-01\n",
      "Completed sub-query from 2017-07-02 to 2017-07-07\n",
      "Completed sub-query from 2017-07-08 to 2017-07-13\n",
      "Completed sub-query from 2017-07-14 to 2017-07-19\n",
      "Completed sub-query from 2017-07-20 to 2017-07-25\n",
      "Completed sub-query from 2017-07-26 to 2017-07-31\n",
      "Completed sub-query from 2017-08-01 to 2017-08-06\n",
      "Completed sub-query from 2017-08-07 to 2017-08-12\n",
      "Completed sub-query from 2017-08-13 to 2017-08-18\n",
      "Completed sub-query from 2017-08-19 to 2017-08-24\n",
      "Completed sub-query from 2017-08-25 to 2017-08-30\n",
      "Completed sub-query from 2017-08-31 to 2017-09-05\n",
      "Completed sub-query from 2017-09-06 to 2017-09-11\n",
      "Completed sub-query from 2017-09-12 to 2017-09-17\n",
      "Completed sub-query from 2017-09-18 to 2017-09-23\n",
      "Completed sub-query from 2017-09-24 to 2017-09-29\n",
      "Completed sub-query from 2017-09-30 to 2017-10-05\n",
      "Completed sub-query from 2017-10-06 to 2017-10-11\n",
      "Completed sub-query from 2017-10-12 to 2017-10-17\n",
      "Completed sub-query from 2017-10-18 to 2017-10-23\n",
      "Completed sub-query from 2017-10-24 to 2017-10-29\n",
      "Completed sub-query from 2017-10-30 to 2017-11-04\n",
      "Query unsuccessful for data from 2017-11-05 to 2017-11-09. Skipping these dates.\n",
      "Query unsuccessful for data from 2017-11-10 to 2017-11-10. Skipping these dates.\n",
      "Query unsuccessful for data from 2017-11-11 to 2017-11-15. Skipping these dates.\n",
      "Query unsuccessful for data from 2017-11-16 to 2017-11-16. Skipping these dates.\n",
      "Skipping offseason dates\n",
      "Query unsuccessful for data from 2018-03-15 to 2018-03-20. Skipping these dates.\n",
      "Query unsuccessful for data from 2018-03-21 to 2018-03-21. Skipping these dates.\n",
      "Query unsuccessful for data from 2018-03-22 to 2018-03-26. Skipping these dates.\n",
      "Query unsuccessful for data from 2018-03-27 to 2018-03-27. Skipping these dates.\n",
      "Completed sub-query from 2018-03-28 to 2018-04-02\n",
      "Completed sub-query from 2018-04-03 to 2018-04-08\n",
      "Completed sub-query from 2018-04-09 to 2018-04-14\n",
      "Completed sub-query from 2018-04-15 to 2018-04-20\n",
      "Completed sub-query from 2018-04-21 to 2018-04-26\n",
      "Completed sub-query from 2018-04-27 to 2018-05-02\n",
      "Completed sub-query from 2018-05-03 to 2018-05-08\n",
      "Completed sub-query from 2018-05-09 to 2018-05-14\n",
      "Completed sub-query from 2018-05-15 to 2018-05-20\n",
      "Completed sub-query from 2018-05-21 to 2018-05-26\n",
      "Completed sub-query from 2018-05-27 to 2018-06-01\n",
      "Completed sub-query from 2018-06-02 to 2018-06-07\n",
      "Completed sub-query from 2018-06-08 to 2018-06-13\n",
      "Completed sub-query from 2018-06-14 to 2018-06-19\n",
      "Completed sub-query from 2018-06-20 to 2018-06-25\n",
      "Completed sub-query from 2018-06-26 to 2018-07-01\n",
      "Completed sub-query from 2018-07-02 to 2018-07-07\n",
      "Completed sub-query from 2018-07-08 to 2018-07-13\n",
      "Completed sub-query from 2018-07-14 to 2018-07-19\n",
      "Completed sub-query from 2018-07-20 to 2018-07-25\n",
      "Completed sub-query from 2018-07-26 to 2018-07-31\n",
      "Completed sub-query from 2018-08-01 to 2018-08-06\n",
      "Completed sub-query from 2018-08-07 to 2018-08-12\n",
      "Completed sub-query from 2018-08-13 to 2018-08-18\n",
      "Completed sub-query from 2018-08-19 to 2018-08-24\n",
      "Completed sub-query from 2018-08-25 to 2018-08-30\n",
      "Completed sub-query from 2018-08-31 to 2018-09-05\n",
      "Completed sub-query from 2018-09-06 to 2018-09-11\n",
      "Completed sub-query from 2018-09-12 to 2018-09-17\n",
      "Completed sub-query from 2018-09-18 to 2018-09-23\n",
      "Completed sub-query from 2018-09-24 to 2018-09-29\n",
      "Completed sub-query from 2018-09-30 to 2018-10-05\n",
      "Completed sub-query from 2018-10-06 to 2018-10-11\n",
      "Completed sub-query from 2018-10-12 to 2018-10-17\n",
      "Completed sub-query from 2018-10-18 to 2018-10-23\n",
      "Completed sub-query from 2018-10-24 to 2018-10-29\n",
      "Query unsuccessful for data from 2018-10-30 to 2018-11-03. Skipping these dates.\n",
      "Query unsuccessful for data from 2018-11-04 to 2018-11-04. Skipping these dates.\n",
      "Query unsuccessful for data from 2018-11-05 to 2018-11-09. Skipping these dates.\n",
      "Query unsuccessful for data from 2018-11-10 to 2018-11-10. Skipping these dates.\n",
      "Query unsuccessful for data from 2018-11-11 to 2018-11-15. Skipping these dates.\n",
      "Query unsuccessful for data from 2018-11-16 to 2018-11-16. Skipping these dates.\n",
      "Completed sub-query from 2018-11-17 to 2018-12-31\n"
     ]
    }
   ],
   "source": [
    "season_data = statcast('2015-01-01', '2018-12-31')"
   ]
  },
  {
   "cell_type": "code",
   "execution_count": 3,
   "metadata": {},
   "outputs": [
    {
     "data": {
      "text/plain": [
       "Index(['index', 'pitch_type', 'game_date', 'release_speed', 'release_pos_x',\n",
       "       'release_pos_z', 'player_name', 'batter', 'pitcher', 'events',\n",
       "       'description', 'spin_dir', 'spin_rate_deprecated',\n",
       "       'break_angle_deprecated', 'break_length_deprecated', 'zone', 'des',\n",
       "       'game_type', 'stand', 'p_throws', 'home_team', 'away_team', 'type',\n",
       "       'hit_location', 'bb_type', 'balls', 'strikes', 'game_year', 'pfx_x',\n",
       "       'pfx_z', 'plate_x', 'plate_z', 'on_3b', 'on_2b', 'on_1b',\n",
       "       'outs_when_up', 'inning', 'inning_topbot', 'hc_x', 'hc_y',\n",
       "       'tfs_deprecated', 'tfs_zulu_deprecated', 'fielder_2', 'umpire', 'sv_id',\n",
       "       'vx0', 'vy0', 'vz0', 'ax', 'ay', 'az', 'sz_top', 'sz_bot',\n",
       "       'hit_distance_sc', 'launch_speed', 'launch_angle', 'effective_speed',\n",
       "       'release_spin_rate', 'release_extension', 'game_pk', 'pitcher.1',\n",
       "       'fielder_2.1', 'fielder_3', 'fielder_4', 'fielder_5', 'fielder_6',\n",
       "       'fielder_7', 'fielder_8', 'fielder_9', 'release_pos_y',\n",
       "       'estimated_ba_using_speedangle', 'estimated_woba_using_speedangle',\n",
       "       'woba_value', 'woba_denom', 'babip_value', 'iso_value',\n",
       "       'launch_speed_angle', 'at_bat_number', 'pitch_number', 'pitch_name',\n",
       "       'home_score', 'away_score', 'bat_score', 'fld_score', 'post_away_score',\n",
       "       'post_home_score', 'post_bat_score', 'post_fld_score',\n",
       "       'if_fielding_alignment', 'of_fielding_alignment'],\n",
       "      dtype='object')"
      ]
     },
     "execution_count": 3,
     "metadata": {},
     "output_type": "execute_result"
    }
   ],
   "source": [
    "season_data.columns"
   ]
  },
  {
   "cell_type": "code",
   "execution_count": 31,
   "metadata": {},
   "outputs": [
    {
     "data": {
      "text/plain": [
       "(2189706, 90)"
      ]
     },
     "execution_count": 31,
     "metadata": {},
     "output_type": "execute_result"
    }
   ],
   "source": [
    "season_data.shape"
   ]
  },
  {
   "cell_type": "code",
   "execution_count": 34,
   "metadata": {},
   "outputs": [
    {
     "data": {
      "text/plain": [
       "array([nan, 'ground_ball', 'fly_ball', 'popup', 'line_drive'],\n",
       "      dtype=object)"
      ]
     },
     "execution_count": 34,
     "metadata": {},
     "output_type": "execute_result"
    }
   ],
   "source": [
    "season_data.bb_type.unique()"
   ]
  },
  {
   "cell_type": "code",
   "execution_count": 36,
   "metadata": {},
   "outputs": [
    {
     "data": {
      "text/plain": [
       "(387865, 90)"
      ]
     },
     "execution_count": 36,
     "metadata": {},
     "output_type": "execute_result"
    }
   ],
   "source": [
    "season_data[~season_data.bb_type.isna()].shape"
   ]
  },
  {
   "cell_type": "markdown",
   "metadata": {},
   "source": [
    "## Earliest Analysis"
   ]
  },
  {
   "cell_type": "code",
   "execution_count": 82,
   "metadata": {},
   "outputs": [
    {
     "name": "stderr",
     "output_type": "stream",
     "text": [
      "C:\\Users\\Mark\\Anaconda3\\lib\\site-packages\\ipykernel_launcher.py:7: SettingWithCopyWarning: \n",
      "A value is trying to be set on a copy of a slice from a DataFrame.\n",
      "Try using .loc[row_indexer,col_indexer] = value instead\n",
      "\n",
      "See the caveats in the documentation: http://pandas.pydata.org/pandas-docs/stable/indexing.html#indexing-view-versus-copy\n",
      "  import sys\n"
     ]
    }
   ],
   "source": [
    "# Preprocess Data\n",
    "\n",
    "swing_events = ['swinging_strike','foul','swinging_strike_blocked','hit_into_play','hit_into_play_score','hit_into_play_no_out','foul_bunt','foul_tip','missed_bunt']\n",
    "whiff_events = ['swinging_strike','swinging_strike_blocked']\n",
    "swing_data = season_data[season_data.description.isin(swing_events)]\n",
    "is_home_run = swing_data.events.isin(['home_run'])\n",
    "swing_data['home_run'] = np.where(is_home_run, 1, 0)"
   ]
  },
  {
   "cell_type": "code",
   "execution_count": 88,
   "metadata": {},
   "outputs": [
    {
     "name": "stdout",
     "output_type": "stream",
     "text": [
      "1    3422\n",
      "0    3384\n",
      "Name: home_run, dtype: int64\n",
      "1    0.502792\n",
      "0    0.497208\n",
      "Name: home_run, dtype: float64\n",
      "176645    0\n",
      "659403    1\n",
      "860757    1\n",
      "392430    0\n",
      "888325    1\n",
      "Name: home_run, dtype: int32\n"
     ]
    }
   ],
   "source": [
    "# More preprocessing and train/test splitting\n",
    "\n",
    "regression_features = ['launch_speed', 'launch_angle']\n",
    "target_variable = 'home_run'\n",
    "all_variables = ['launch_speed', 'launch_angle', 'home_run']\n",
    "\n",
    "num_hits = swing_data[target_variable].value_counts()[0]\n",
    "\n",
    "scaler = StandardScaler()\n",
    "\n",
    "scaled_swing_data = pd.DataFrame(scaler.fit_transform(swing_data[regression_features]), columns=regression_features)\n",
    "scaled_swing_data[target_variable] = swing_data[target_variable]\n",
    "scaled_swing_data.dropna(inplace=True)\n",
    "\n",
    "scaled_swing_data_true = scaled_swing_data[scaled_swing_data[target_variable] == 1]\n",
    "scaled_swing_data_false = scaled_swing_data[scaled_swing_data[target_variable] == 0]\n",
    "\n",
    "num_min = min(scaled_swing_data[target_variable].value_counts())\n",
    "majority_num = max(scaled_swing_data_true.shape[0], scaled_swing_data_false.shape[0])\n",
    "majority_set = scaled_swing_data_true if majority_num == scaled_swing_data_true.shape[0] else scaled_swing_data_false\n",
    "minority_num = min(scaled_swing_data_true.shape[0], scaled_swing_data_false.shape[0])\n",
    "minority_set = scaled_swing_data_true if minority_num == scaled_swing_data_true.shape[0] else scaled_swing_data_false\n",
    "\n",
    "scaled_swing_data_downsample = resample(majority_set, replace=False, n_samples=num_min)\n",
    "scaled_swing_data = pd.concat([scaled_swing_data_downsample, minority_set])\n",
    "\n",
    "X_train, X_test, y_train, y_test = train_test_split(\n",
    "    scaled_swing_data[regression_features],\n",
    "    scaled_swing_data[target_variable],\n",
    "    test_size=0.3,\n",
    "    random_state=1\n",
    ")\n",
    "\n",
    "y_train = y_train.astype('int')\n",
    "y_test = y_test.astype('int')\n",
    "\n",
    "print(y_train.value_counts())\n",
    "print(y_train.value_counts(normalize=True))\n",
    "print(y_train.head())"
   ]
  },
  {
   "cell_type": "code",
   "execution_count": 94,
   "metadata": {},
   "outputs": [
    {
     "name": "stdout",
     "output_type": "stream",
     "text": [
      "[0]\teval-logloss:0.693424\ttrain-logloss:0.690244\n",
      "Multiple eval metrics have been passed: 'train-logloss' will be used for early stopping.\n",
      "\n",
      "Will train until train-logloss hasn't improved in 10 rounds.\n",
      "[1]\teval-logloss:0.694752\ttrain-logloss:0.685387\n",
      "[2]\teval-logloss:0.697722\ttrain-logloss:0.680575\n",
      "[3]\teval-logloss:0.700028\ttrain-logloss:0.679037\n",
      "[4]\teval-logloss:0.701896\ttrain-logloss:0.677097\n",
      "[5]\teval-logloss:0.703794\ttrain-logloss:0.674462\n",
      "[6]\teval-logloss:0.706538\ttrain-logloss:0.671282\n",
      "[7]\teval-logloss:0.707398\ttrain-logloss:0.668476\n",
      "[8]\teval-logloss:0.708372\ttrain-logloss:0.665978\n",
      "[9]\teval-logloss:0.710361\ttrain-logloss:0.662905\n"
     ]
    },
    {
     "data": {
      "text/plain": [
       "0.49451679232350926"
      ]
     },
     "execution_count": 94,
     "metadata": {},
     "output_type": "execute_result"
    },
    {
     "data": {
      "image/png": "[encoded data removed]",
      "text/plain": [
       "<Figure size 432x288 with 1 Axes>"
      ]
     },
     "metadata": {
      "needs_background": "light"
     },
     "output_type": "display_data"
    }
   ],
   "source": [
    "# Train model\n",
    "param = {\n",
    "    'max_depth': 4, \n",
    "    'eta': 1, \n",
    "    'silent': 0, \n",
    "    'objective': 'binary:logistic',\n",
    "    'nthread': 3,\n",
    "    'eval_metric': 'logloss'\n",
    "}\n",
    "\n",
    "dtrain = xgb.DMatrix(X_train, label=y_train)\n",
    "dtest = xgb.DMatrix(X_test, label=y_test)\n",
    "eval_list = [(dtest, 'eval'), (dtrain, 'train')]\n",
    "num_rounds = 10\n",
    "\n",
    "model = xgb.train(param, dtrain, num_rounds, eval_list, early_stopping_rounds=10)\n",
    "y_pred = model.predict(dtest, ntree_limit=model.best_ntree_limit)\n",
    "\n",
    "xgb.plot_importance(model)\n",
    "accuracy_score(y_test, np.where(y_pred > 0.5, 1, 0))"
   ]
  },
  {
   "cell_type": "code",
   "execution_count": 86,
   "metadata": {},
   "outputs": [
    {
     "name": "stdout",
     "output_type": "stream",
     "text": [
      "280763 4862\n",
      "(280763, 3) (4862, 3)\n"
     ]
    }
   ],
   "source": [
    "print(majority_num, minority_num)\n",
    "print(majority_set.shape, minority_set.shape)"
   ]
  }
 ],
 "metadata": {
  "kernelspec": {
   "display_name": "Python 3",
   "language": "python",
   "name": "python3"
  },
  "language_info": {
   "codemirror_mode": {
    "name": "ipython",
    "version": 3
   },
   "file_extension": ".py",
   "mimetype": "text/x-python",
   "name": "python",
   "nbconvert_exporter": "python",
   "pygments_lexer": "ipython3",
   "version": "3.6.7"
  }
 },
 "nbformat": 4,
 "nbformat_minor": 2
}
